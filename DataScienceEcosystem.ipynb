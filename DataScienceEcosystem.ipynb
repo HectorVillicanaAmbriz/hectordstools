{
 "cells": [
  {
   "cell_type": "markdown",
   "id": "c645f076-27b8-49a9-8ae8-dad766f18709",
   "metadata": {},
   "source": [
    "# Data Science Tools and Ecosystem"
   ]
  },
  {
   "cell_type": "markdown",
   "id": "05bd1f68-b87f-437e-b676-52b0c53e1546",
   "metadata": {},
   "source": [
    "In this notebook, Data Science Tools and Ecosystem are summarized."
   ]
  },
  {
   "cell_type": "markdown",
   "id": "9c08195b-ce17-4d8d-80e5-7b0213a4666e",
   "metadata": {},
   "source": [
    "**Objetives:**\n",
    "- List popular languages for Data Science\n",
    "- Use of R and Rstudio\n",
    "- Use of python\n",
    "- Visualization with libraries Rstudio\n",
    "- Introduction to SQL"
   ]
  },
  {
   "cell_type": "markdown",
   "id": "85729572-1200-4679-93ab-2f743414a710",
   "metadata": {},
   "source": [
    "## Author\n",
    "Héctor Villicaña Ambriz"
   ]
  },
  {
   "cell_type": "markdown",
   "id": "87686755-01bc-44f5-abef-2d88b51495ef",
   "metadata": {},
   "source": [
    "Some of the popular languages that Data Scientists use are:\n",
    "1. CSV\n",
    "2. XLSX\n",
    "3. XML\n",
    "4. PDF\n",
    "5. JSON"
   ]
  },
  {
   "cell_type": "markdown",
   "id": "3a254416-53a2-49cd-a365-3deff9ad254b",
   "metadata": {},
   "source": [
    "Some of the commonly used libraries used by Data Scientists include:\n",
    "1. Matplotlib\n",
    "2. Seaborn\n",
    "3. Scikit-Learn\n",
    "4. Keras"
   ]
  },
  {
   "cell_type": "markdown",
   "id": "7394eae6-cbdb-43a1-b6d2-ee528b12b6ae",
   "metadata": {},
   "source": [
    "Data Science Tools: \n",
    "---\n",
    "Rstudio\n",
    "---\n",
    "Python\n",
    "---\n",
    "MySQL\n",
    "---\n"
   ]
  },
  {
   "cell_type": "markdown",
   "id": "7a06cda1-c510-4cd5-bd1f-b414b45a308d",
   "metadata": {},
   "source": [
    "### Below are a few examples of evaluating arithmetic expressions in Python"
   ]
  },
  {
   "cell_type": "code",
   "execution_count": 17,
   "id": "2220cf63-72d3-474e-b03b-ddecfb6c8321",
   "metadata": {},
   "outputs": [
    {
     "data": {
      "text/plain": [
       "17"
      ]
     },
     "execution_count": 17,
     "metadata": {},
     "output_type": "execute_result"
    }
   ],
   "source": [
    "#This a simple arithmetic expression to mutiply then add integers\n",
    "(3*4)+5"
   ]
  },
  {
   "cell_type": "code",
   "execution_count": 19,
   "id": "b536caff-e9e3-4d18-bfd2-b932117292b5",
   "metadata": {},
   "outputs": [
    {
     "data": {
      "text/plain": [
       "3.3333333333333335"
      ]
     },
     "execution_count": 19,
     "metadata": {},
     "output_type": "execute_result"
    }
   ],
   "source": [
    "#This will convert 200 minutes to hours by diving by 60\n",
    "200/60"
   ]
  },
  {
   "cell_type": "code",
   "execution_count": null,
   "id": "d8b20237-2ce5-4974-ae57-67a06a05a82c",
   "metadata": {},
   "outputs": [],
   "source": []
  }
 ],
 "metadata": {
  "kernelspec": {
   "display_name": "Python 3 (ipykernel)",
   "language": "python",
   "name": "python3"
  },
  "language_info": {
   "codemirror_mode": {
    "name": "ipython",
    "version": 3
   },
   "file_extension": ".py",
   "mimetype": "text/x-python",
   "name": "python",
   "nbconvert_exporter": "python",
   "pygments_lexer": "ipython3",
   "version": "3.12.7"
  }
 },
 "nbformat": 4,
 "nbformat_minor": 5
}
